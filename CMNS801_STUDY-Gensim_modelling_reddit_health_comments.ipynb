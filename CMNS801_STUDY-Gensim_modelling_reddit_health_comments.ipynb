{
 "cells": [
  {
   "cell_type": "code",
   "execution_count": 1,
   "metadata": {},
   "outputs": [
    {
     "name": "stdout",
     "output_type": "stream",
     "text": [
      "Populating the interactive namespace from numpy and matplotlib\n"
     ]
    }
   ],
   "source": [
    "%pylab inline\n",
    "import pandas as pd\n",
    "import pickle\n",
    "import nltk\n",
    "import string\n",
    "from nltk.corpus import stopwords\n",
    "from nltk.tokenize import RegexpTokenizer\n",
    "from nltk.stem.wordnet import WordNetLemmatizer\n",
    "from nltk.stem.porter import PorterStemmer\n",
    "from scipy import sparse as sp"
   ]
  },
  {
   "cell_type": "code",
   "execution_count": 2,
   "metadata": {},
   "outputs": [],
   "source": [
    "df = pd.read_csv('data/raw_comments_from_top_health_posts.csv', index_col=0)"
   ]
  },
  {
   "cell_type": "code",
   "execution_count": 3,
   "metadata": {},
   "outputs": [
    {
     "data": {
      "text/html": [
       "<div>\n",
       "<style scoped>\n",
       "    .dataframe tbody tr th:only-of-type {\n",
       "        vertical-align: middle;\n",
       "    }\n",
       "\n",
       "    .dataframe tbody tr th {\n",
       "        vertical-align: top;\n",
       "    }\n",
       "\n",
       "    .dataframe thead th {\n",
       "        text-align: right;\n",
       "    }\n",
       "</style>\n",
       "<table border=\"1\" class=\"dataframe\">\n",
       "  <thead>\n",
       "    <tr style=\"text-align: right;\">\n",
       "      <th></th>\n",
       "      <th>comment_id</th>\n",
       "      <th>comment_score</th>\n",
       "      <th>comment_created</th>\n",
       "      <th>comment_body</th>\n",
       "    </tr>\n",
       "  </thead>\n",
       "  <tbody>\n",
       "    <tr>\n",
       "      <th>0</th>\n",
       "      <td>fkd6xyq</td>\n",
       "      <td>189</td>\n",
       "      <td>1.584099e+09</td>\n",
       "      <td>Happy I had the privilege to vote for Katie Po...</td>\n",
       "    </tr>\n",
       "    <tr>\n",
       "      <th>1</th>\n",
       "      <td>fkdb1ca</td>\n",
       "      <td>84</td>\n",
       "      <td>1.584102e+09</td>\n",
       "      <td>This serves as a reminder that the pomp and ci...</td>\n",
       "    </tr>\n",
       "    <tr>\n",
       "      <th>2</th>\n",
       "      <td>fkdjt6m</td>\n",
       "      <td>29</td>\n",
       "      <td>1.584110e+09</td>\n",
       "      <td>And how many won’t have jobs tomorrow if they ...</td>\n",
       "    </tr>\n",
       "    <tr>\n",
       "      <th>3</th>\n",
       "      <td>fkdid6b</td>\n",
       "      <td>19</td>\n",
       "      <td>1.584109e+09</td>\n",
       "      <td>Katie Porter rocks!</td>\n",
       "    </tr>\n",
       "    <tr>\n",
       "      <th>4</th>\n",
       "      <td>fkebcd7</td>\n",
       "      <td>14</td>\n",
       "      <td>1.584138e+09</td>\n",
       "      <td>I see a lot of comments from people who may be...</td>\n",
       "    </tr>\n",
       "    <tr>\n",
       "      <th>5</th>\n",
       "      <td>fkdem27</td>\n",
       "      <td>24</td>\n",
       "      <td>1.584105e+09</td>\n",
       "      <td>Treatment is what is needed as well. I know pe...</td>\n",
       "    </tr>\n",
       "    <tr>\n",
       "      <th>6</th>\n",
       "      <td>fkdniru</td>\n",
       "      <td>9</td>\n",
       "      <td>1.584115e+09</td>\n",
       "      <td>Now that is a woman/person that I find amazing...</td>\n",
       "    </tr>\n",
       "    <tr>\n",
       "      <th>7</th>\n",
       "      <td>fke1n5m</td>\n",
       "      <td>7</td>\n",
       "      <td>1.584132e+09</td>\n",
       "      <td>That’s great except we don’t have any tests to...</td>\n",
       "    </tr>\n",
       "    <tr>\n",
       "      <th>8</th>\n",
       "      <td>fkdvnri</td>\n",
       "      <td>4</td>\n",
       "      <td>1.584126e+09</td>\n",
       "      <td>Getting him to say 'yes' felt like pulling teeth.</td>\n",
       "    </tr>\n",
       "    <tr>\n",
       "      <th>9</th>\n",
       "      <td>fkf10fr</td>\n",
       "      <td>4</td>\n",
       "      <td>1.584154e+09</td>\n",
       "      <td>Can we have HER as president?!  \\n\\nIn an earl...</td>\n",
       "    </tr>\n",
       "  </tbody>\n",
       "</table>\n",
       "</div>"
      ],
      "text/plain": [
       "  comment_id  comment_score  comment_created  \\\n",
       "0    fkd6xyq            189     1.584099e+09   \n",
       "1    fkdb1ca             84     1.584102e+09   \n",
       "2    fkdjt6m             29     1.584110e+09   \n",
       "3    fkdid6b             19     1.584109e+09   \n",
       "4    fkebcd7             14     1.584138e+09   \n",
       "5    fkdem27             24     1.584105e+09   \n",
       "6    fkdniru              9     1.584115e+09   \n",
       "7    fke1n5m              7     1.584132e+09   \n",
       "8    fkdvnri              4     1.584126e+09   \n",
       "9    fkf10fr              4     1.584154e+09   \n",
       "\n",
       "                                        comment_body  \n",
       "0  Happy I had the privilege to vote for Katie Po...  \n",
       "1  This serves as a reminder that the pomp and ci...  \n",
       "2  And how many won’t have jobs tomorrow if they ...  \n",
       "3                                Katie Porter rocks!  \n",
       "4  I see a lot of comments from people who may be...  \n",
       "5  Treatment is what is needed as well. I know pe...  \n",
       "6  Now that is a woman/person that I find amazing...  \n",
       "7  That’s great except we don’t have any tests to...  \n",
       "8  Getting him to say 'yes' felt like pulling teeth.  \n",
       "9  Can we have HER as president?!  \\n\\nIn an earl...  "
      ]
     },
     "execution_count": 3,
     "metadata": {},
     "output_type": "execute_result"
    }
   ],
   "source": [
    "df.head(10)"
   ]
  },
  {
   "cell_type": "code",
   "execution_count": 4,
   "metadata": {},
   "outputs": [
    {
     "data": {
      "text/plain": [
       "(5005, 4)"
      ]
     },
     "execution_count": 4,
     "metadata": {},
     "output_type": "execute_result"
    }
   ],
   "source": [
    "df.shape"
   ]
  },
  {
   "cell_type": "code",
   "execution_count": 5,
   "metadata": {
    "scrolled": true
   },
   "outputs": [],
   "source": [
    "# remove unused columns\n",
    "df = df.drop(columns= ['comment_id', 'comment_score', 'comment_created'])"
   ]
  },
  {
   "cell_type": "code",
   "execution_count": 6,
   "metadata": {},
   "outputs": [
    {
     "data": {
      "text/html": [
       "<div>\n",
       "<style scoped>\n",
       "    .dataframe tbody tr th:only-of-type {\n",
       "        vertical-align: middle;\n",
       "    }\n",
       "\n",
       "    .dataframe tbody tr th {\n",
       "        vertical-align: top;\n",
       "    }\n",
       "\n",
       "    .dataframe thead th {\n",
       "        text-align: right;\n",
       "    }\n",
       "</style>\n",
       "<table border=\"1\" class=\"dataframe\">\n",
       "  <thead>\n",
       "    <tr style=\"text-align: right;\">\n",
       "      <th></th>\n",
       "      <th>comment_body</th>\n",
       "    </tr>\n",
       "  </thead>\n",
       "  <tbody>\n",
       "    <tr>\n",
       "      <th>0</th>\n",
       "      <td>Happy I had the privilege to vote for Katie Po...</td>\n",
       "    </tr>\n",
       "    <tr>\n",
       "      <th>1</th>\n",
       "      <td>This serves as a reminder that the pomp and ci...</td>\n",
       "    </tr>\n",
       "    <tr>\n",
       "      <th>2</th>\n",
       "      <td>And how many won’t have jobs tomorrow if they ...</td>\n",
       "    </tr>\n",
       "    <tr>\n",
       "      <th>3</th>\n",
       "      <td>Katie Porter rocks!</td>\n",
       "    </tr>\n",
       "    <tr>\n",
       "      <th>4</th>\n",
       "      <td>I see a lot of comments from people who may be...</td>\n",
       "    </tr>\n",
       "    <tr>\n",
       "      <th>5</th>\n",
       "      <td>Treatment is what is needed as well. I know pe...</td>\n",
       "    </tr>\n",
       "    <tr>\n",
       "      <th>6</th>\n",
       "      <td>Now that is a woman/person that I find amazing...</td>\n",
       "    </tr>\n",
       "    <tr>\n",
       "      <th>7</th>\n",
       "      <td>That’s great except we don’t have any tests to...</td>\n",
       "    </tr>\n",
       "    <tr>\n",
       "      <th>8</th>\n",
       "      <td>Getting him to say 'yes' felt like pulling teeth.</td>\n",
       "    </tr>\n",
       "    <tr>\n",
       "      <th>9</th>\n",
       "      <td>Can we have HER as president?!  \\n\\nIn an earl...</td>\n",
       "    </tr>\n",
       "  </tbody>\n",
       "</table>\n",
       "</div>"
      ],
      "text/plain": [
       "                                        comment_body\n",
       "0  Happy I had the privilege to vote for Katie Po...\n",
       "1  This serves as a reminder that the pomp and ci...\n",
       "2  And how many won’t have jobs tomorrow if they ...\n",
       "3                                Katie Porter rocks!\n",
       "4  I see a lot of comments from people who may be...\n",
       "5  Treatment is what is needed as well. I know pe...\n",
       "6  Now that is a woman/person that I find amazing...\n",
       "7  That’s great except we don’t have any tests to...\n",
       "8  Getting him to say 'yes' felt like pulling teeth.\n",
       "9  Can we have HER as president?!  \\n\\nIn an earl..."
      ]
     },
     "execution_count": 6,
     "metadata": {},
     "output_type": "execute_result"
    }
   ],
   "source": [
    "df.head(10)"
   ]
  },
  {
   "cell_type": "code",
   "execution_count": 7,
   "metadata": {},
   "outputs": [],
   "source": [
    "# remove [deleted] or [none] rows\n",
    "rowsToDrop = df[(df['comment_body'] == \"[removed]\") | (df['comment_body'] == \"[deleted]\")].index\n",
    "df.drop(rowsToDrop, inplace=True)"
   ]
  },
  {
   "cell_type": "code",
   "execution_count": 8,
   "metadata": {},
   "outputs": [],
   "source": [
    "# remove newline chars\n",
    "def remove_newlines(txt):\n",
    "    no_nl = txt.replace('\\n',' ')\n",
    "    return no_nl\n",
    "df['comment_body'] = df['comment_body'].apply(lambda x: remove_newlines(x))"
   ]
  },
  {
   "cell_type": "code",
   "execution_count": 9,
   "metadata": {},
   "outputs": [],
   "source": [
    "# remove urls\n",
    "df['comment_body'] = df['comment_body'].replace(r'http\\S+', '', regex=True).replace(r'www\\S+', '', regex=True)"
   ]
  },
  {
   "cell_type": "code",
   "execution_count": 10,
   "metadata": {},
   "outputs": [],
   "source": [
    "# remove punctuation\n",
    "def remove_punctuation(text):\n",
    "    no_punct = \"\".join([c for c in text if c not in string.punctuation])\n",
    "    return no_punct"
   ]
  },
  {
   "cell_type": "code",
   "execution_count": 11,
   "metadata": {},
   "outputs": [],
   "source": [
    "df['comment_body'] = df['comment_body'].apply(lambda x: remove_punctuation(x))"
   ]
  },
  {
   "cell_type": "code",
   "execution_count": 12,
   "metadata": {},
   "outputs": [],
   "source": [
    "# remove empty cells\n",
    "import numpy as np\n",
    "df['comment_body'] = df['comment_body'].replace(r'^\\s*$', np.nan, regex=True)"
   ]
  },
  {
   "cell_type": "code",
   "execution_count": 13,
   "metadata": {},
   "outputs": [],
   "source": [
    "df = df.dropna()"
   ]
  },
  {
   "cell_type": "code",
   "execution_count": 14,
   "metadata": {},
   "outputs": [
    {
     "data": {
      "text/html": [
       "<div>\n",
       "<style scoped>\n",
       "    .dataframe tbody tr th:only-of-type {\n",
       "        vertical-align: middle;\n",
       "    }\n",
       "\n",
       "    .dataframe tbody tr th {\n",
       "        vertical-align: top;\n",
       "    }\n",
       "\n",
       "    .dataframe thead th {\n",
       "        text-align: right;\n",
       "    }\n",
       "</style>\n",
       "<table border=\"1\" class=\"dataframe\">\n",
       "  <thead>\n",
       "    <tr style=\"text-align: right;\">\n",
       "      <th></th>\n",
       "      <th>comment_body</th>\n",
       "    </tr>\n",
       "  </thead>\n",
       "  <tbody>\n",
       "    <tr>\n",
       "      <th>0</th>\n",
       "      <td>Happy I had the privilege to vote for Katie Po...</td>\n",
       "    </tr>\n",
       "    <tr>\n",
       "      <th>1</th>\n",
       "      <td>This serves as a reminder that the pomp and ci...</td>\n",
       "    </tr>\n",
       "    <tr>\n",
       "      <th>2</th>\n",
       "      <td>And how many won’t have jobs tomorrow if they ...</td>\n",
       "    </tr>\n",
       "    <tr>\n",
       "      <th>3</th>\n",
       "      <td>Katie Porter rocks</td>\n",
       "    </tr>\n",
       "    <tr>\n",
       "      <th>4</th>\n",
       "      <td>I see a lot of comments from people who may be...</td>\n",
       "    </tr>\n",
       "    <tr>\n",
       "      <th>...</th>\n",
       "      <td>...</td>\n",
       "    </tr>\n",
       "    <tr>\n",
       "      <th>4999</th>\n",
       "      <td>Wuhan endless queues for ashes of coronaviru...</td>\n",
       "    </tr>\n",
       "    <tr>\n",
       "      <th>5000</th>\n",
       "      <td>Do you have a link from something like the New...</td>\n",
       "    </tr>\n",
       "    <tr>\n",
       "      <th>5002</th>\n",
       "      <td>More than 140 nursing homes in the United St...</td>\n",
       "    </tr>\n",
       "    <tr>\n",
       "      <th>5003</th>\n",
       "      <td>Federal Officials I am sure many people will w...</td>\n",
       "    </tr>\n",
       "    <tr>\n",
       "      <th>5004</th>\n",
       "      <td>Ah   Wonderful news  Its really no big deal ca...</td>\n",
       "    </tr>\n",
       "  </tbody>\n",
       "</table>\n",
       "<p>4819 rows × 1 columns</p>\n",
       "</div>"
      ],
      "text/plain": [
       "                                           comment_body\n",
       "0     Happy I had the privilege to vote for Katie Po...\n",
       "1     This serves as a reminder that the pomp and ci...\n",
       "2     And how many won’t have jobs tomorrow if they ...\n",
       "3                                    Katie Porter rocks\n",
       "4     I see a lot of comments from people who may be...\n",
       "...                                                 ...\n",
       "4999    Wuhan endless queues for ashes of coronaviru...\n",
       "5000  Do you have a link from something like the New...\n",
       "5002    More than 140 nursing homes in the United St...\n",
       "5003  Federal Officials I am sure many people will w...\n",
       "5004  Ah   Wonderful news  Its really no big deal ca...\n",
       "\n",
       "[4819 rows x 1 columns]"
      ]
     },
     "execution_count": 14,
     "metadata": {},
     "output_type": "execute_result"
    }
   ],
   "source": [
    "df"
   ]
  },
  {
   "cell_type": "code",
   "execution_count": 15,
   "metadata": {},
   "outputs": [
    {
     "name": "stdout",
     "output_type": "stream",
     "text": [
      "4819\n",
      "<class 'numpy.ndarray'>\n"
     ]
    },
    {
     "data": {
      "text/plain": [
       "array(['Happy I had the privilege to vote for Katie Porter',\n",
       "       'This serves as a reminder that the pomp and circumstance some of Congress members put on during trials and meetings can ultimately serve a purpose  We need truth  We need results  We need our representatives to go to bat for us otherwise nothing is accomplished',\n",
       "       'And how many won’t have jobs tomorrow if they take today off sick Not worth getting tested They’ll go in and work until they fall over America is great',\n",
       "       ...,\n",
       "       '  More than 140 nursing homes in the United States have at least one resident who tested positive for the coronavirus according to federal government figures released earlier this week but exactly which homes are affected and where they are federal officials won’t say    Their refusal to release the information has angered families industry watchdogs and emergency personnel who say it deprives them of critical information as they try to ensure the safety of nursing home residents who are among the most vulnerable to the disease    “That’s just not right It’s not ethical It’s not humane” said John BaRoss who pulled his mother out of a longterm care facility in West Orange NJ on Friday because he believed she was safer at his home “Families deserve to have the information Let us have the information and let us decide”   Likewise emergency responders say the locations of nursing home outbreaks could be essential to their decisionmaking leading them to don appropriate protective gear to prevent them from becoming sick or spreading it elsewhere    “Getting the information is super important” said Doug Stern spokesman for the International Association of Fire Fighters the labor union representing 320000 firefighters in the United States and Canada “Once we get the information we can make sure we take the proper precautions”   ',\n",
       "       'Federal Officials I am sure many people will want to know exactly who these Federal Officials are',\n",
       "       'Ah   Wonderful news  Its really no big deal catching it   Lets go and have parties '],\n",
       "      dtype=object)"
      ]
     },
     "execution_count": 15,
     "metadata": {},
     "output_type": "execute_result"
    }
   ],
   "source": [
    "# collect docs as array\n",
    "docs = array(df['comment_body'])\n",
    "print(len(docs))\n",
    "print(type(docs))\n",
    "type(docs[1])\n",
    "docs"
   ]
  },
  {
   "cell_type": "code",
   "execution_count": 16,
   "metadata": {},
   "outputs": [],
   "source": [
    "# stopwords function\n",
    "def remove_stopwords(text):\n",
    "    words = [w for w in text if w not in stopwords.words('english')]\n",
    "    return words\n",
    "\n",
    "# preprocessing\n",
    "def docs_preprocessor(docs):\n",
    "    tokenizer = RegexpTokenizer(r'\\w+')\n",
    "    for idx in range(len(docs)):\n",
    "        docs[idx] = docs[idx].lower() #convert to lowercase\n",
    "        docs[idx] = tokenizer.tokenize(docs[idx]) #split into words\n",
    "    \n",
    "    # remove stopwords\n",
    "    docs = [[token for token in doc if token not in stopwords.words('english')] for doc in docs]\n",
    "    \n",
    "    # remove numbers\n",
    "    docs = [[token for token in doc if not token.isdigit()] for doc in docs]\n",
    "    \n",
    "    # remove words < 1 character\n",
    "    docs = [[token for token in doc if len(token) > 3] for doc in docs]\n",
    "    \n",
    "    # lemmatize\n",
    "    lemmatizer = WordNetLemmatizer()\n",
    "    docs = [[lemmatizer.lemmatize(token) for token in doc] for doc in docs]\n",
    "    \n",
    "    return docs"
   ]
  },
  {
   "cell_type": "code",
   "execution_count": 17,
   "metadata": {},
   "outputs": [],
   "source": [
    "docs = docs_preprocessor(docs)"
   ]
  },
  {
   "cell_type": "code",
   "execution_count": 18,
   "metadata": {},
   "outputs": [],
   "source": [
    "# comput bigrams/trigrams\n",
    "from gensim.models import Phrases\n",
    "# add bigrams and trigrams to docs - only ones that appear 10 times or more\n",
    "bigram = Phrases(docs, min_count=10)\n",
    "trigram = Phrases(bigram[docs])\n",
    "\n",
    "for idx in range(len(docs)):\n",
    "    for token in bigram[docs[idx]]:\n",
    "        if '_' in token:\n",
    "            #token is a bigram - add to doc\n",
    "            docs[idx].append(token)\n",
    "    for token in trigram[docs[idx]]:\n",
    "        if '_' in token:\n",
    "            #token is trigram - add to doc\n",
    "            docs[idx].append(token)"
   ]
  },
  {
   "cell_type": "code",
   "execution_count": 19,
   "metadata": {},
   "outputs": [
    {
     "name": "stdout",
     "output_type": "stream",
     "text": [
      "Number of unique words in initial docs: 9977\n",
      "Number of unique words after removing rare and common words: 1455\n"
     ]
    }
   ],
   "source": [
    "# remove rare and common tokens\n",
    "from gensim.corpora import Dictionary\n",
    "\n",
    "# create a dictionary representation of the documents\n",
    "dictionary = Dictionary(docs)\n",
    "print(f\"Number of unique words in initial docs: {len(dictionary)}\")\n",
    "\n",
    "# filter out words that occur in less than 10 or more than 20%\n",
    "dictionary.filter_extremes(no_below=10, no_above=0.2)\n",
    "print(f\"Number of unique words after removing rare and common words: {len(dictionary)}\")\n"
   ]
  },
  {
   "cell_type": "code",
   "execution_count": 20,
   "metadata": {},
   "outputs": [
    {
     "name": "stdout",
     "output_type": "stream",
     "text": [
      "Number of unique tokens: 1455\n",
      "Number of documents: 4819\n"
     ]
    }
   ],
   "source": [
    "#vectorize - get a 'bag-of-words' representation \n",
    "corpus = [dictionary.doc2bow(doc) for doc in docs]\n",
    "print(f\"Number of unique tokens: {len(dictionary)}\")\n",
    "print(f\"Number of documents: {len(corpus)}\")"
   ]
  },
  {
   "cell_type": "code",
   "execution_count": 21,
   "metadata": {},
   "outputs": [
    {
     "name": "stdout",
     "output_type": "stream",
     "text": [
      "CPU times: user 34.8 s, sys: 105 ms, total: 34.9 s\n",
      "Wall time: 34.9 s\n"
     ]
    }
   ],
   "source": [
    "# train LDA model\n",
    "from gensim.models import LdaModel\n",
    "\n",
    "#set training params\n",
    "num_topics = 4\n",
    "chunksize = 500 # size of doc each pass examines\n",
    "passes = 20 # num of passes\n",
    "iterations = 400\n",
    "eval_every = 1 # do not eval model perplexity\n",
    "\n",
    "#make index to word dict\n",
    "temp = dictionary[0] # load dict\n",
    "id2word = dictionary.id2token\n",
    "\n",
    "# track the CPU time and let the model run\n",
    "%time model = LdaModel(corpus=corpus, id2word=id2word, chunksize=chunksize, \\\n",
    "                      alpha='auto', eta='auto', \\\n",
    "                      iterations=iterations, num_topics=num_topics, \\\n",
    "                      passes=passes, eval_every=eval_every)\n"
   ]
  },
  {
   "cell_type": "code",
   "execution_count": 23,
   "metadata": {},
   "outputs": [],
   "source": [
    "# visualization\n",
    "import pyLDAvis.gensim\n",
    "pyLDAvis.enable_notebook()\n",
    "\n",
    "import warnings\n",
    "warnings.filterwarnings(\"ignore\", category=DeprecationWarning)"
   ]
  },
  {
   "cell_type": "code",
   "execution_count": 24,
   "metadata": {},
   "outputs": [
    {
     "data": {
      "text/html": [
       "\n",
       "<link rel=\"stylesheet\" type=\"text/css\" href=\"https://cdn.rawgit.com/bmabey/pyLDAvis/files/ldavis.v1.0.0.css\">\n",
       "\n",
       "\n",
       "<div id=\"ldavis_el9844350917768482384542406\"></div>\n",
       "<script type=\"text/javascript\">\n",
       "\n",
       "var ldavis_el9844350917768482384542406_data = {\"mdsDat\": {\"x\": [-0.17111311148031047, -0.18223930336724156, -0.010360729690186322, 0.36371314453773856], \"y\": [0.13554273269451603, 0.1078263809473864, -0.35116028660260146, 0.10779117296069912], \"topics\": [1, 2, 3, 4], \"cluster\": [1, 1, 1, 1], \"Freq\": [39.26642990112305, 27.00617218017578, 21.656116485595703, 12.071282386779785]}, \"tinfo\": {\"Term\": [\"mask\", \"need\", \"people\", \"dont\", \"work\", \"thing\", \"health\", \"care\", \"healthcare\", \"know\", \"case\", \"hand\", \"like\", \"trump\", \"take\", \"italy\", \"home\", \"system\", \"health_care\", \"also\", \"year\", \"risk\", \"right\", \"week\", \"wash_hand\", \"government\", \"number\", \"test\", \"make\", \"healthcare_worker\", \"case\", \"test\", \"number\", \"covid19\", \"coronavirus\", \"china\", \"testing\", \"death\", \"rate\", \"spread\", \"already\", \"infected\", \"day\", \"read\", \"mortality_rate\", \"tested\", \"disease\", \"symptom\", \"back\", \"might\", \"million\", \"positive\", \"population\", \"made\", \"infection\", \"isnt\", \"month\", \"read_article\", \"week\", \"look_like\", \"article\", \"also\", \"sure\", \"like\", \"patient\", \"still\", \"time\", \"people\", \"something\", \"come\", \"country\", \"even\", \"would\", \"virus\", \"every\", \"hospital\", \"mask\", \"trump\", \"dont\", \"many_people\", \"wearing_mask\", \"wear_mask\", \"make_sense\", \"stop\", \"shit\", \"wear\", \"need\", \"wearing\", \"dont_know\", \"supply\", \"start\", \"surgical_mask\", \"instead\", \"happening\", \"president\", \"fucking\", \"sense\", \"source\", \"general\", \"response\", \"even_though\", \"hope\", \"alcohol\", \"pandemic\", \"nurse\", \"get\", \"anyone\", \"help\", \"nothing\", \"part\", \"know\", \"better\", \"think\", \"could\", \"point\", \"many\", \"virus\", \"would\", \"make\", \"people\", \"hospital\", \"good\", \"even\", \"much\", \"health_care\", \"stay_home\", \"united_state\", \"money\", \"home\", \"government\", \"company\", \"maybe\", \"study\", \"young\", \"healthy\", \"best\", \"staff\", \"exactly\", \"social_distancing\", \"working\", \"real\", \"cost\", \"take_care\", \"south_korea\", \"drug\", \"white_house\", \"employee\", \"close\", \"leave\", \"paid\", \"however\", \"high_risk\", \"paid_sick\", \"question\", \"work\", \"worker\", \"health\", \"care\", \"thing\", \"pretty\", \"american\", \"risk\", \"stay\", \"take\", \"medical\", \"year\", \"right\", \"sick\", \"great\", \"make\", \"want\", \"going\", \"state\", \"good\", \"healthcare\", \"hand\", \"italy\", \"wash_hand\", \"healthcare_worker\", \"corona_virus\", \"healthcare_system\", \"immune_system\", \"corona\", \"touch_face\", \"confirmed_case\", \"safe\", \"fuck\", \"common_cold\", \"march\", \"touch\", \"federal_government\", \"number_case\", \"touching_face\", \"there\", \"become\", \"closed\", \"kill\", \"body\", \"sound_like\", \"current\", \"immune\", \"urgent_care\", \"shortage\", \"sound\", \"system\", \"face\", \"world\", \"understand\", \"situation\"], \"Freq\": [480.0, 401.0, 1280.0, 360.0, 300.0, 301.0, 258.0, 251.0, 157.0, 311.0, 342.0, 146.0, 615.0, 234.0, 256.0, 136.0, 189.0, 139.0, 178.0, 330.0, 220.0, 177.0, 232.0, 274.0, 111.0, 156.0, 258.0, 257.0, 331.0, 106.0, 342.07574462890625, 256.2966613769531, 257.3149108886719, 225.62850952148438, 231.2054443359375, 211.8336639404297, 191.66921997070312, 186.1781768798828, 176.50799560546875, 171.71112060546875, 162.1985321044922, 162.0076446533203, 176.30796813964844, 152.76931762695312, 140.0730743408203, 129.83184814453125, 142.50921630859375, 125.47499084472656, 132.18704223632812, 113.87806701660156, 109.01406860351562, 106.07632446289062, 105.19095611572266, 103.3569107055664, 99.57217407226562, 97.74980163574219, 96.54551696777344, 89.77538299560547, 272.4613037109375, 80.31224060058594, 172.35311889648438, 322.50152587890625, 165.5429229736328, 556.1954345703125, 209.09033203125, 245.29354858398438, 296.43634033203125, 921.3202514648438, 137.2342071533203, 135.10418701171875, 183.75196838378906, 228.3676300048828, 218.9229278564453, 222.1800079345703, 152.87464904785156, 152.28497314453125, 480.12908935546875, 234.23020935058594, 358.9687194824219, 169.56851196289062, 163.81307983398438, 152.18075561523438, 117.34455108642578, 114.9324951171875, 113.29522705078125, 107.61858367919922, 399.016357421875, 96.3852310180664, 87.98432922363281, 87.95558166503906, 85.47431182861328, 81.37245178222656, 83.83119201660156, 85.84367370605469, 76.99147033691406, 72.27242279052734, 72.73772430419922, 72.14932250976562, 71.07537078857422, 69.20606231689453, 67.98392486572266, 68.57572937011719, 80.78449249267578, 111.26666259765625, 68.31829071044922, 66.75711059570312, 90.57931518554688, 154.89356994628906, 117.82388305664062, 100.76998901367188, 292.64654541015625, 188.99014282226562, 254.29611206054688, 160.6266632080078, 132.97581481933594, 175.1968536376953, 249.2228240966797, 224.05145263671875, 182.64370727539062, 353.0531921386719, 168.30584716796875, 121.24747467041016, 150.23648071289062, 101.56842803955078, 177.99874877929688, 143.34056091308594, 138.82278442382812, 118.8282699584961, 188.56137084960938, 155.4031524658203, 104.62171936035156, 101.51005554199219, 97.36372375488281, 87.9349136352539, 87.79631042480469, 101.92509460449219, 77.98284149169922, 72.40322875976562, 70.188232421875, 88.68572235107422, 70.25215911865234, 69.72593688964844, 67.16520690917969, 67.621826171875, 66.90361022949219, 65.88023376464844, 61.67360305786133, 62.6199836730957, 60.62664031982422, 59.50110626220703, 60.720054626464844, 57.68135452270508, 56.54118728637695, 58.60602569580078, 289.4466857910156, 103.33709716796875, 247.58804321289062, 239.79348754882812, 280.0794982910156, 83.00226593017578, 122.3196029663086, 167.06686401367188, 122.69456481933594, 224.58460998535156, 124.1643295288086, 178.32125854492188, 186.10594177246094, 158.10385131835938, 78.38461303710938, 146.53102111816406, 108.23148345947266, 124.34361267089844, 91.49935913085938, 91.45683288574219, 156.91580200195312, 145.6694793701172, 135.54049682617188, 110.97529602050781, 105.81168365478516, 102.90706634521484, 99.42827606201172, 88.04348754882812, 84.21672821044922, 74.36283111572266, 67.74464416503906, 67.94759368896484, 66.77713775634766, 60.02350997924805, 62.0114860534668, 60.345664978027344, 58.99424362182617, 58.940799713134766, 57.3726692199707, 58.903072357177734, 58.42251968383789, 56.292781829833984, 55.147743225097656, 53.323455810546875, 50.522705078125, 52.628501892089844, 49.46571350097656, 49.839027404785156, 50.86296081542969, 48.90348815917969, 132.71963500976562, 101.34269714355469, 71.85586547851562, 58.176780700683594, 54.563392639160156], \"Total\": [480.0, 401.0, 1280.0, 360.0, 300.0, 301.0, 258.0, 251.0, 157.0, 311.0, 342.0, 146.0, 615.0, 234.0, 256.0, 136.0, 189.0, 139.0, 178.0, 330.0, 220.0, 177.0, 232.0, 274.0, 111.0, 156.0, 258.0, 257.0, 331.0, 106.0, 342.92205810546875, 257.02069091796875, 258.05303955078125, 226.36642456054688, 231.9953155517578, 212.57321166992188, 192.39340209960938, 186.9100799560547, 177.22987365722656, 172.4521942138672, 162.9439697265625, 162.75453186035156, 177.138427734375, 153.52871704101562, 140.7866973876953, 130.55307006835938, 143.31076049804688, 126.19285583496094, 132.9659423828125, 114.62604522705078, 109.74644470214844, 106.81084442138672, 105.92095184326172, 104.11650085449219, 100.30948638916016, 98.48822021484375, 97.27521514892578, 90.54706573486328, 274.8133544921875, 81.04456329345703, 174.06289672851562, 330.7627258300781, 170.7898712158203, 615.9651489257812, 221.3517608642578, 273.9832763671875, 341.21307373046875, 1280.33984375, 143.76007080078125, 143.6423797607422, 237.56658935546875, 399.3135070800781, 447.2716979980469, 485.203857421875, 192.30593872070312, 321.0914611816406, 480.87701416015625, 234.9752655029297, 360.4909362792969, 170.30484008789062, 164.55764770507812, 152.92283630371094, 118.0782470703125, 115.68099212646484, 114.03860473632812, 108.36568450927734, 401.79364013671875, 97.13481140136719, 88.71269226074219, 88.70793151855469, 86.21586608886719, 82.11408996582031, 84.62869262695312, 86.67355346679688, 77.73735809326172, 73.01113891601562, 73.4912338256836, 72.90630340576172, 71.83309936523438, 69.94994354248047, 68.71815490722656, 69.32554626464844, 81.66800689697266, 112.50106811523438, 69.0766372680664, 67.51671600341797, 91.8726806640625, 158.4073944091797, 120.14755249023438, 102.92149353027344, 311.4163818359375, 200.41114807128906, 346.6683044433594, 210.6953125, 168.63345336914062, 270.6523742675781, 485.203857421875, 447.2716979980469, 331.2976989746094, 1280.33984375, 321.0914611816406, 214.9142608642578, 399.3135070800781, 249.60684204101562, 178.71900939941406, 144.05223083496094, 139.56642150878906, 119.55178833007812, 189.79385375976562, 156.4485626220703, 105.33814239501953, 102.24356079101562, 98.178466796875, 88.68729400634766, 88.5479507446289, 102.81991577148438, 78.74896240234375, 73.1425552368164, 70.91087341308594, 89.61018371582031, 70.9852523803711, 70.45687103271484, 67.87467956542969, 68.34347534179688, 67.6424789428711, 66.61512756347656, 62.39248275756836, 63.36509323120117, 61.352378845214844, 60.217811584472656, 61.468292236328125, 58.40489196777344, 57.25049591064453, 59.342350006103516, 300.77508544921875, 105.79177856445312, 258.9656982421875, 251.38970947265625, 301.2146911621094, 84.94124603271484, 127.64588928222656, 177.38941955566406, 130.0826416015625, 256.51971435546875, 134.9398193359375, 220.20474243164062, 232.32635498046875, 228.83889770507812, 83.1419677734375, 331.2976989746094, 184.50491333007812, 286.80401611328125, 177.35740661621094, 214.9142608642578, 157.67234802246094, 146.42123413085938, 136.3026123046875, 111.70556640625, 106.5738296508789, 103.65968322753906, 100.16027069091797, 88.78235626220703, 84.98146057128906, 75.10565948486328, 68.47969055175781, 68.705078125, 67.53010559082031, 60.76556396484375, 62.78675079345703, 61.106239318847656, 59.739437103271484, 59.68817901611328, 58.113616943359375, 59.682498931884766, 59.21635437011719, 57.08907699584961, 55.92915725708008, 54.083702087402344, 51.256534576416016, 53.412994384765625, 50.21438980102539, 50.59941482543945, 51.64929962158203, 49.660335540771484, 139.6583251953125, 124.51654052734375, 167.55551147460938, 118.92408752441406, 83.38923645019531], \"Category\": [\"Default\", \"Default\", \"Default\", \"Default\", \"Default\", \"Default\", \"Default\", \"Default\", \"Default\", \"Default\", \"Default\", \"Default\", \"Default\", \"Default\", \"Default\", \"Default\", \"Default\", \"Default\", \"Default\", \"Default\", \"Default\", \"Default\", \"Default\", \"Default\", \"Default\", \"Default\", \"Default\", \"Default\", \"Default\", \"Default\", \"Topic1\", \"Topic1\", \"Topic1\", \"Topic1\", \"Topic1\", \"Topic1\", \"Topic1\", \"Topic1\", \"Topic1\", \"Topic1\", \"Topic1\", \"Topic1\", \"Topic1\", \"Topic1\", \"Topic1\", \"Topic1\", \"Topic1\", \"Topic1\", \"Topic1\", \"Topic1\", \"Topic1\", \"Topic1\", \"Topic1\", \"Topic1\", \"Topic1\", \"Topic1\", \"Topic1\", \"Topic1\", \"Topic1\", \"Topic1\", \"Topic1\", \"Topic1\", \"Topic1\", \"Topic1\", \"Topic1\", \"Topic1\", \"Topic1\", \"Topic1\", \"Topic1\", \"Topic1\", \"Topic1\", \"Topic1\", \"Topic1\", \"Topic1\", \"Topic1\", \"Topic1\", \"Topic2\", \"Topic2\", \"Topic2\", \"Topic2\", \"Topic2\", \"Topic2\", \"Topic2\", \"Topic2\", \"Topic2\", \"Topic2\", \"Topic2\", \"Topic2\", \"Topic2\", \"Topic2\", \"Topic2\", \"Topic2\", \"Topic2\", \"Topic2\", \"Topic2\", \"Topic2\", \"Topic2\", \"Topic2\", \"Topic2\", \"Topic2\", \"Topic2\", \"Topic2\", \"Topic2\", \"Topic2\", \"Topic2\", \"Topic2\", \"Topic2\", \"Topic2\", \"Topic2\", \"Topic2\", \"Topic2\", \"Topic2\", \"Topic2\", \"Topic2\", \"Topic2\", \"Topic2\", \"Topic2\", \"Topic2\", \"Topic2\", \"Topic2\", \"Topic2\", \"Topic2\", \"Topic2\", \"Topic2\", \"Topic3\", \"Topic3\", \"Topic3\", \"Topic3\", \"Topic3\", \"Topic3\", \"Topic3\", \"Topic3\", \"Topic3\", \"Topic3\", \"Topic3\", \"Topic3\", \"Topic3\", \"Topic3\", \"Topic3\", \"Topic3\", \"Topic3\", \"Topic3\", \"Topic3\", \"Topic3\", \"Topic3\", \"Topic3\", \"Topic3\", \"Topic3\", \"Topic3\", \"Topic3\", \"Topic3\", \"Topic3\", \"Topic3\", \"Topic3\", \"Topic3\", \"Topic3\", \"Topic3\", \"Topic3\", \"Topic3\", \"Topic3\", \"Topic3\", \"Topic3\", \"Topic3\", \"Topic3\", \"Topic3\", \"Topic3\", \"Topic3\", \"Topic3\", \"Topic3\", \"Topic3\", \"Topic3\", \"Topic3\", \"Topic3\", \"Topic3\", \"Topic4\", \"Topic4\", \"Topic4\", \"Topic4\", \"Topic4\", \"Topic4\", \"Topic4\", \"Topic4\", \"Topic4\", \"Topic4\", \"Topic4\", \"Topic4\", \"Topic4\", \"Topic4\", \"Topic4\", \"Topic4\", \"Topic4\", \"Topic4\", \"Topic4\", \"Topic4\", \"Topic4\", \"Topic4\", \"Topic4\", \"Topic4\", \"Topic4\", \"Topic4\", \"Topic4\", \"Topic4\", \"Topic4\", \"Topic4\", \"Topic4\", \"Topic4\", \"Topic4\", \"Topic4\", \"Topic4\"], \"logprob\": [30.0, 29.0, 28.0, 27.0, 26.0, 25.0, 24.0, 23.0, 22.0, 21.0, 20.0, 19.0, 18.0, 17.0, 16.0, 15.0, 14.0, 13.0, 12.0, 11.0, 10.0, 9.0, 8.0, 7.0, 6.0, 5.0, 4.0, 3.0, 2.0, 1.0, -4.318699836730957, -4.607399940490723, -4.603499889373779, -4.734899997711182, -4.7104997634887695, -4.797999858856201, -4.8979997634887695, -4.92710018157959, -4.980400085449219, -5.007999897003174, -5.064899921417236, -5.066100120544434, -4.981500148773193, -5.124800205230713, -5.211599826812744, -5.287499904632568, -5.194399833679199, -5.321700096130371, -5.269599914550781, -5.418600082397461, -5.462299823760986, -5.48960018157959, -5.498000144958496, -5.515600204467773, -5.5528998374938965, -5.571400165557861, -5.583799839019775, -5.656499862670898, -4.546299934387207, -5.7677998542785645, -5.004199981689453, -4.377699851989746, -5.04449987411499, -3.8326001167297363, -4.810999870300293, -4.651299953460693, -4.461900234222412, -3.328000068664551, -5.232100009918213, -5.247700214385986, -4.940199851989746, -4.722799777984619, -4.764999866485596, -4.75029993057251, -5.124100208282471, -5.127999782562256, -3.6054000854492188, -4.323200225830078, -3.896199941635132, -4.646200180053711, -4.680699825286865, -4.75439977645874, -5.0142998695373535, -5.035099983215332, -5.049499988555908, -5.100900173187256, -3.7904999256134033, -5.211100101470947, -5.302299976348877, -5.302599906921387, -5.331200122833252, -5.38040018081665, -5.3506999015808105, -5.326900005340576, -5.435800075531006, -5.499000072479248, -5.492599964141846, -5.500699996948242, -5.515699863433838, -5.542399883270264, -5.560200214385986, -5.551499843597412, -5.387700080871582, -5.067500114440918, -5.555300235748291, -5.578400135040283, -5.273200035095215, -4.736700057983398, -5.010300159454346, -5.166600227355957, -4.100500106811523, -4.537799835205078, -4.241000175476074, -4.700399875640869, -4.8892998695373535, -4.61359977722168, -4.261099815368652, -4.367599964141846, -4.571899890899658, -3.9128000736236572, -4.65369987487793, -4.981599807739258, -4.767300128936768, -5.158699989318848, -4.3769001960754395, -4.593500137329102, -4.625500202178955, -4.781000137329102, -4.319300174713135, -4.512700080871582, -4.908299922943115, -4.938499927520752, -4.980199813842773, -5.082099914550781, -5.083700180053711, -4.9344000816345215, -5.202199935913086, -5.276400089263916, -5.307499885559082, -5.073599815368652, -5.306600093841553, -5.3140997886657715, -5.351500034332275, -5.344799995422363, -5.355400085449219, -5.370800018310547, -5.436800003051758, -5.421599864959717, -5.453999996185303, -5.472700119018555, -5.452400207519531, -5.503799915313721, -5.52370023727417, -5.487800121307373, -3.890700101852417, -4.9207000732421875, -4.046899795532227, -4.07889986038208, -3.9235999584198, -5.139800071716309, -4.751999855041504, -4.440299987792969, -4.749000072479248, -4.144400119781494, -4.737100124359131, -4.375100135803223, -4.332399845123291, -4.4953999519348145, -5.1971001625061035, -4.571400165557861, -4.8744001388549805, -4.735599994659424, -5.042399883270264, -5.042799949645996, -3.9184999465942383, -3.9928998947143555, -4.065000057220459, -4.264900207519531, -4.312600135803223, -4.340400218963623, -4.374800205230713, -4.496399879455566, -4.540800094604492, -4.665299892425537, -4.758500099182129, -4.755499839782715, -4.772900104522705, -4.879499912261963, -4.84689998626709, -4.874100208282471, -4.8968000411987305, -4.89769983291626, -4.924699783325195, -4.8983001708984375, -4.906499862670898, -4.943699836730957, -4.964200019836426, -4.997900009155273, -5.051799774169922, -5.011000156402588, -5.07289981842041, -5.065400123596191, -5.045100212097168, -5.084400177001953, -4.085999965667725, -4.3557000160217285, -4.6996002197265625, -4.910699844360352, -4.974899768829346], \"loglift\": [30.0, 29.0, 28.0, 27.0, 26.0, 25.0, 24.0, 23.0, 22.0, 21.0, 20.0, 19.0, 18.0, 17.0, 16.0, 15.0, 14.0, 13.0, 12.0, 11.0, 10.0, 9.0, 8.0, 7.0, 6.0, 5.0, 4.0, 3.0, 2.0, 1.0, 0.9322999715805054, 0.9319999814033508, 0.9319000244140625, 0.9315000176429749, 0.9314000010490417, 0.9312999844551086, 0.9309999942779541, 0.930899977684021, 0.9307000041007996, 0.9304999709129333, 0.9301999807357788, 0.9301999807357788, 0.9301000237464905, 0.9297999739646912, 0.9297000169754028, 0.9293000102043152, 0.9291999936103821, 0.929099977016449, 0.9289000034332275, 0.9283000230789185, 0.9280999898910522, 0.9279000163078308, 0.9279000163078308, 0.9275000095367432, 0.9273999929428101, 0.927299976348877, 0.927299976348877, 0.9261999726295471, 0.9261999726295471, 0.9257000088691711, 0.9248999953269958, 0.909500002861023, 0.9035999774932861, 0.8327000141143799, 0.8777999877929688, 0.8241999745368958, 0.7940999865531921, 0.6057000160217285, 0.8883000016212463, 0.8734999895095825, 0.6779000163078308, 0.37599998712539673, 0.22040000557899475, 0.15369999408721924, 0.705299973487854, 0.18880000710487366, 1.3075000047683716, 1.305899977684021, 1.304900050163269, 1.304800033569336, 1.3046000003814697, 1.3042000532150269, 1.302899956703186, 1.3026000261306763, 1.3026000261306763, 1.3021999597549438, 1.3021999597549438, 1.3013999462127686, 1.3008999824523926, 1.3006000518798828, 1.3005000352859497, 1.2999999523162842, 1.2996000051498413, 1.2994999885559082, 1.2994999885559082, 1.2989000082015991, 1.298799991607666, 1.298699975013733, 1.2984999418258667, 1.2984000444412231, 1.2984000444412231, 1.298200011253357, 1.298200011253357, 1.2980999946594238, 1.2980999946594238, 1.2977999448776245, 1.2948999404907227, 1.2867000102996826, 1.2896000146865845, 1.2879999876022339, 1.246899962425232, 1.2503999471664429, 0.9991999864578247, 1.0377999544143677, 1.0714999437332153, 0.8741999864578247, 0.6428999900817871, 0.6177999973297119, 0.7135999798774719, 0.020800000056624413, 0.6632000207901001, 0.7366999983787537, 0.33160001039505005, 0.4099999964237213, 1.5257999897003174, 1.524899959564209, 1.5245000123977661, 1.523800015449524, 1.5233999490737915, 1.5232000350952148, 1.5231000185012817, 1.5226999521255493, 1.5214999914169312, 1.521399974822998, 1.521399974822998, 1.5211000442504883, 1.5200999975204468, 1.519700050354004, 1.5196000337600708, 1.5195000171661377, 1.5195000171661377, 1.5195000171661377, 1.5194000005722046, 1.5192999839782715, 1.5189000368118286, 1.5188000202178955, 1.5183000564575195, 1.5181000232696533, 1.5180000066757202, 1.517899990081787, 1.5176000595092773, 1.5174000263214111, 1.5174000263214111, 1.5174000263214111, 1.4915000200271606, 1.5063999891281128, 1.4850000143051147, 1.482699990272522, 1.4571000337600708, 1.5068000555038452, 1.4873000383377075, 1.4699000120162964, 1.4714000225067139, 1.3969000577926636, 1.4466999769210815, 1.3188999891281128, 1.3080999851226807, 1.160099983215332, 1.4709999561309814, 0.7141000032424927, 0.9965000152587891, 0.694100022315979, 0.8679999709129333, 0.6754999756813049, 2.109499931335449, 2.1092000007629395, 2.1087000370025635, 2.107800006866455, 2.1071999073028564, 2.107100009918213, 2.1070001125335693, 2.1059999465942383, 2.105299949645996, 2.1043999195098877, 2.1034998893737793, 2.103300094604492, 2.103100061416626, 2.102099895477295, 2.101900100708008, 2.101799964904785, 2.101799964904785, 2.1017000675201416, 2.1015000343322754, 2.1012001037597656, 2.100800037384033, 2.1003000736236572, 2.1003000736236572, 2.1001999378204346, 2.099900007247925, 2.0994999408721924, 2.099299907684326, 2.0992000102996826, 2.0989999771118164, 2.0989999771118164, 2.0634000301361084, 1.908400058746338, 1.267699956893921, 1.3992999792099, 1.6901999711990356]}, \"token.table\": {\"Topic\": [2, 1, 1, 2, 1, 3, 1, 2, 1, 2, 1, 4, 3, 1, 2, 4, 1, 3, 1, 1, 3, 4, 1, 3, 4, 3, 4, 4, 4, 1, 3, 1, 2, 3, 1, 2, 3, 4, 1, 4, 1, 1, 1, 2, 3, 2, 3, 3, 1, 2, 3, 2, 1, 2, 3, 4, 3, 2, 4, 4, 4, 2, 2, 2, 1, 2, 3, 2, 3, 4, 2, 3, 2, 3, 4, 2, 1, 3, 3, 4, 4, 4, 3, 2, 3, 3, 1, 3, 2, 1, 2, 3, 4, 4, 1, 1, 2, 1, 4, 4, 1, 2, 3, 3, 1, 2, 3, 4, 1, 1, 1, 2, 3, 2, 1, 2, 2, 4, 2, 3, 2, 3, 1, 1, 3, 1, 1, 1, 2, 3, 1, 2, 2, 3, 4, 1, 4, 2, 3, 3, 2, 3, 1, 2, 1, 2, 1, 2, 3, 4, 1, 2, 3, 4, 1, 1, 2, 1, 3, 3, 1, 1, 1, 3, 2, 1, 2, 3, 1, 3, 4, 2, 2, 4, 1, 2, 3, 2, 4, 3, 1, 4, 4, 4, 2, 3, 1, 3, 2, 1, 2, 3, 3, 4, 3, 1, 2, 2, 3, 2, 1, 3, 2, 1, 3, 4, 1, 2, 3, 3, 1, 1, 1, 4, 2, 3, 1, 2, 3, 4, 1, 2, 3, 4, 4, 4, 2, 3, 4, 3, 4, 1, 2, 4, 1, 2, 3, 4, 2, 2, 2, 2, 1, 3, 3, 1, 2, 3, 2, 3, 3, 1, 2, 3, 4, 1, 2, 3, 1, 3, 3], \"Freq\": [0.9918204545974731, 0.9942067861557007, 0.9765308499336243, 0.024186521768569946, 0.03917086496949196, 0.9557691216468811, 0.010884628631174564, 0.9905011653900146, 0.98814857006073, 0.005745049566030502, 0.9927353858947754, 0.9794591665267944, 0.9920257329940796, 0.05488716438412666, 0.9430612921714783, 0.9799625277519226, 0.04375676438212395, 0.9546930193901062, 0.9973111748695374, 0.9973034858703613, 0.9942382574081421, 0.9809231758117676, 0.9398340582847595, 0.055693868547677994, 0.9874013662338257, 0.9967899322509766, 0.9929951429367065, 0.9884508848190308, 0.9936360716819763, 0.9957097768783569, 0.9935156106948853, 0.232563316822052, 0.7641366124153137, 0.004746190272271633, 0.774519681930542, 0.012628038413822651, 0.1641644984483719, 0.046302806586027145, 0.9983812570571899, 0.992267906665802, 0.9935732483863831, 0.9951308965682983, 0.9978315830230713, 0.9958641529083252, 0.0027739948127418756, 0.9919663071632385, 0.9905018210411072, 0.9937094449996948, 0.5709799528121948, 0.3756446838378906, 0.05008595809340477, 0.9895492792129517, 0.7956072688102722, 0.05200047418475151, 0.05720052123069763, 0.09360085427761078, 0.9843790531158447, 0.1847144216299057, 0.8111371994018555, 0.9876223206520081, 0.992150068283081, 0.9861509203910828, 0.9884023070335388, 0.9923468232154846, 0.3870238661766052, 0.17782177031040192, 0.4323509931564331, 0.5630152225494385, 0.4234246611595154, 0.009306036867201328, 0.006391877308487892, 0.990740954875946, 0.048110481351614, 0.9381543397903442, 0.997123122215271, 0.9922288656234741, 0.04247666895389557, 0.9576557874679565, 0.9959768652915955, 0.995735764503479, 0.9884158372879028, 0.9946156740188599, 0.993811845779419, 0.9784896969795227, 0.01893850974738598, 0.9930675029754639, 0.005268874578177929, 0.9958173036575317, 0.9953041076660156, 0.47338536381721497, 0.5232154130935669, 0.9923815727233887, 0.9758158922195435, 0.9911879301071167, 0.9953640103340149, 0.9969146847724915, 0.9925711750984192, 0.9950428605079651, 0.9977798461914062, 0.9833868741989136, 0.009633404202759266, 0.9408625364303589, 0.05137815698981285, 0.9942564964294434, 0.9026484489440918, 0.01298774778842926, 0.01948162168264389, 0.06331527233123779, 0.9871112704277039, 0.9892764091491699, 0.006036866456270218, 0.5523732900619507, 0.44370970129966736, 0.9908683896064758, 0.3510037660598755, 0.6465858817100525, 0.9982100129127502, 0.987469494342804, 0.9981762170791626, 0.9976178407669067, 0.0741071105003357, 0.9189281463623047, 0.9945383667945862, 0.9931984543800354, 0.9953845143318176, 0.9971707463264465, 0.9944121241569519, 0.4126489460468292, 0.40864264965057373, 0.18028351664543152, 0.0049776798114180565, 0.9930470585823059, 0.9821256995201111, 0.008323099464178085, 0.008323099464178085, 0.9959192872047424, 0.9884704351425171, 0.9844138622283936, 0.9963829517364502, 0.9956245422363281, 0.9866573214530945, 0.008888804353773594, 0.01943228766322136, 0.9813305139541626, 0.944198489189148, 0.05421235412359238, 0.7193402647972107, 0.27570804953575134, 0.0039052132051438093, 0.0007810426177456975, 0.023720085620880127, 0.788692831993103, 0.11860042810440063, 0.07116025686264038, 0.9913052916526794, 0.9924085736274719, 0.9905147552490234, 0.01177284400910139, 0.9771460294723511, 0.9942309260368347, 0.9987029433250427, 0.9965562224388123, 0.9939582347869873, 0.986120343208313, 0.986419677734375, 0.17217159271240234, 0.02582573890686035, 0.8005979061126709, 0.056373149156570435, 0.9414315819740295, 0.9897376298904419, 0.9933157563209534, 0.9908925294876099, 0.9874286651611328, 0.20538465678691864, 0.10050738602876663, 0.6904420852661133, 0.3357747495174408, 0.6595575213432312, 0.9871546626091003, 0.9529767036437988, 0.04173620790243149, 0.9867029786109924, 0.9949950575828552, 0.9875689148902893, 0.9949742555618286, 0.997377872467041, 0.9904892444610596, 0.985897421836853, 0.20297996699810028, 0.2762782871723175, 0.5130882263183594, 0.9455527663230896, 0.053811945021152496, 0.9926955103874207, 0.8942151665687561, 0.10219601541757584, 0.9941132068634033, 0.9879966974258423, 0.992019534111023, 0.9719545841217041, 0.029275741428136826, 0.9864324331283569, 0.9905473589897156, 0.04296199232339859, 0.9523241519927979, 0.015593343414366245, 0.10915340483188629, 0.8771255612373352, 0.9871132969856262, 0.9960287809371948, 0.9957636594772339, 0.9979552030563354, 0.9885644912719727, 0.06971771270036697, 0.9295695424079895, 0.24519114196300507, 0.732688844203949, 0.00865380559116602, 0.01153840683400631, 0.8674931526184082, 0.12602096796035767, 0.00586144020780921, 0.9818964600563049, 0.9852786064147949, 0.9808372259140015, 0.9958494901657104, 0.504523515701294, 0.4877060651779175, 0.9959415793418884, 0.9881536960601807, 0.4575396478176117, 0.5131863355636597, 0.028853852301836014, 0.20053666830062866, 0.21137648820877075, 0.5853502750396729, 0.9936836957931519, 0.9966254830360413, 0.9939653277397156, 0.9883171319961548, 0.9966112375259399, 0.9897626638412476, 0.007277666591107845, 0.9907659292221069, 0.013298973441123962, 0.026597946882247925, 0.9608508348464966, 0.01890506036579609, 0.9736106395721436, 0.9931907057762146, 0.19694966077804565, 0.01790451444685459, 0.3640584647655487, 0.429708331823349, 0.48963525891304016, 0.5008141398429871, 0.008943109773099422, 0.18619035184383392, 0.8083386421203613, 0.992250382900238], \"Term\": [\"alcohol\", \"already\", \"also\", \"also\", \"american\", \"american\", \"anyone\", \"anyone\", \"article\", \"article\", \"back\", \"become\", \"best\", \"better\", \"better\", \"body\", \"care\", \"care\", \"case\", \"china\", \"close\", \"closed\", \"come\", \"come\", \"common_cold\", \"company\", \"confirmed_case\", \"corona\", \"corona_virus\", \"coronavirus\", \"cost\", \"could\", \"could\", \"could\", \"country\", \"country\", \"country\", \"country\", \"covid19\", \"current\", \"day\", \"death\", \"disease\", \"dont\", \"dont\", \"dont_know\", \"drug\", \"employee\", \"even\", \"even\", \"even\", \"even_though\", \"every\", \"every\", \"every\", \"every\", \"exactly\", \"face\", \"face\", \"federal_government\", \"fuck\", \"fucking\", \"general\", \"get\", \"going\", \"going\", \"going\", \"good\", \"good\", \"good\", \"government\", \"government\", \"great\", \"great\", \"hand\", \"happening\", \"health\", \"health\", \"health_care\", \"healthcare\", \"healthcare_system\", \"healthcare_worker\", \"healthy\", \"help\", \"help\", \"high_risk\", \"home\", \"home\", \"hope\", \"hospital\", \"hospital\", \"however\", \"immune\", \"immune_system\", \"infected\", \"infection\", \"instead\", \"isnt\", \"italy\", \"kill\", \"know\", \"know\", \"know\", \"leave\", \"like\", \"like\", \"like\", \"like\", \"look_like\", \"made\", \"make\", \"make\", \"make\", \"make_sense\", \"many\", \"many\", \"many_people\", \"march\", \"mask\", \"maybe\", \"medical\", \"medical\", \"might\", \"million\", \"money\", \"month\", \"mortality_rate\", \"much\", \"much\", \"much\", \"need\", \"need\", \"nothing\", \"nothing\", \"nothing\", \"number\", \"number_case\", \"nurse\", \"paid\", \"paid_sick\", \"pandemic\", \"pandemic\", \"part\", \"part\", \"patient\", \"patient\", \"people\", \"people\", \"people\", \"people\", \"point\", \"point\", \"point\", \"point\", \"population\", \"positive\", \"president\", \"pretty\", \"pretty\", \"question\", \"rate\", \"read\", \"read_article\", \"real\", \"response\", \"right\", \"right\", \"right\", \"risk\", \"risk\", \"safe\", \"sense\", \"shit\", \"shortage\", \"sick\", \"sick\", \"sick\", \"situation\", \"situation\", \"social_distancing\", \"something\", \"something\", \"sound\", \"sound_like\", \"source\", \"south_korea\", \"spread\", \"staff\", \"start\", \"state\", \"state\", \"state\", \"stay\", \"stay\", \"stay_home\", \"still\", \"still\", \"stop\", \"study\", \"supply\", \"sure\", \"sure\", \"surgical_mask\", \"symptom\", \"system\", \"system\", \"take\", \"take\", \"take\", \"take_care\", \"test\", \"tested\", \"testing\", \"there\", \"thing\", \"thing\", \"think\", \"think\", \"think\", \"think\", \"time\", \"time\", \"time\", \"touch\", \"touch_face\", \"touching_face\", \"trump\", \"understand\", \"understand\", \"united_state\", \"urgent_care\", \"virus\", \"virus\", \"virus\", \"want\", \"want\", \"want\", \"wash_hand\", \"wear\", \"wear_mask\", \"wearing\", \"wearing_mask\", \"week\", \"week\", \"white_house\", \"work\", \"work\", \"work\", \"worker\", \"worker\", \"working\", \"world\", \"world\", \"world\", \"world\", \"would\", \"would\", \"would\", \"year\", \"year\", \"young\"]}, \"R\": 30, \"lambda.step\": 0.01, \"plot.opts\": {\"xlab\": \"PC1\", \"ylab\": \"PC2\"}, \"topic.order\": [1, 4, 2, 3]};\n",
       "\n",
       "function LDAvis_load_lib(url, callback){\n",
       "  var s = document.createElement('script');\n",
       "  s.src = url;\n",
       "  s.async = true;\n",
       "  s.onreadystatechange = s.onload = callback;\n",
       "  s.onerror = function(){console.warn(\"failed to load library \" + url);};\n",
       "  document.getElementsByTagName(\"head\")[0].appendChild(s);\n",
       "}\n",
       "\n",
       "if(typeof(LDAvis) !== \"undefined\"){\n",
       "   // already loaded: just create the visualization\n",
       "   !function(LDAvis){\n",
       "       new LDAvis(\"#\" + \"ldavis_el9844350917768482384542406\", ldavis_el9844350917768482384542406_data);\n",
       "   }(LDAvis);\n",
       "}else if(typeof define === \"function\" && define.amd){\n",
       "   // require.js is available: use it to load d3/LDAvis\n",
       "   require.config({paths: {d3: \"https://cdnjs.cloudflare.com/ajax/libs/d3/3.5.5/d3.min\"}});\n",
       "   require([\"d3\"], function(d3){\n",
       "      window.d3 = d3;\n",
       "      LDAvis_load_lib(\"https://cdn.rawgit.com/bmabey/pyLDAvis/files/ldavis.v1.0.0.js\", function(){\n",
       "        new LDAvis(\"#\" + \"ldavis_el9844350917768482384542406\", ldavis_el9844350917768482384542406_data);\n",
       "      });\n",
       "    });\n",
       "}else{\n",
       "    // require.js not available: dynamically load d3 & LDAvis\n",
       "    LDAvis_load_lib(\"https://cdnjs.cloudflare.com/ajax/libs/d3/3.5.5/d3.min.js\", function(){\n",
       "         LDAvis_load_lib(\"https://cdn.rawgit.com/bmabey/pyLDAvis/files/ldavis.v1.0.0.js\", function(){\n",
       "                 new LDAvis(\"#\" + \"ldavis_el9844350917768482384542406\", ldavis_el9844350917768482384542406_data);\n",
       "            })\n",
       "         });\n",
       "}\n",
       "</script>"
      ],
      "text/plain": [
       "PreparedData(topic_coordinates=              x         y  topics  cluster       Freq\n",
       "topic                                                \n",
       "0     -0.171113  0.135543       1        1  39.266430\n",
       "3     -0.182239  0.107826       2        1  27.006172\n",
       "1     -0.010361 -0.351160       3        1  21.656116\n",
       "2      0.363713  0.107791       4        1  12.071282, topic_info=            Term         Freq        Total Category  logprob  loglift\n",
       "1160        mask   480.000000   480.000000  Default  30.0000  30.0000\n",
       "4           need   401.000000   401.000000  Default  29.0000  29.0000\n",
       "71        people  1280.000000  1280.000000  Default  28.0000  28.0000\n",
       "109         dont   360.000000   360.000000  Default  27.0000  27.0000\n",
       "22          work   300.000000   300.000000  Default  26.0000  26.0000\n",
       "...          ...          ...          ...      ...      ...      ...\n",
       "208       system   132.719635   139.658325   Topic4  -4.0860   2.0634\n",
       "942         face   101.342697   124.516541   Topic4  -4.3557   1.9084\n",
       "256        world    71.855865   167.555511   Topic4  -4.6996   1.2677\n",
       "297   understand    58.176781   118.924088   Topic4  -4.9107   1.3993\n",
       "149    situation    54.563393    83.389236   Topic4  -4.9749   1.6902\n",
       "\n",
       "[209 rows x 6 columns], token_table=      Topic      Freq      Term\n",
       "term                           \n",
       "1223      2  0.991820   alcohol\n",
       "313       1  0.994207   already\n",
       "258       1  0.976531      also\n",
       "258       2  0.024187      also\n",
       "652       1  0.039171  american\n",
       "...     ...       ...       ...\n",
       "153       2  0.500814     would\n",
       "153       3  0.008943     would\n",
       "429       1  0.186190      year\n",
       "429       3  0.808339      year\n",
       "1056      3  0.992250     young\n",
       "\n",
       "[261 rows x 3 columns], R=30, lambda_step=0.01, plot_opts={'xlab': 'PC1', 'ylab': 'PC2'}, topic_order=[1, 4, 2, 3])"
      ]
     },
     "execution_count": 24,
     "metadata": {},
     "output_type": "execute_result"
    }
   ],
   "source": [
    "pyLDAvis.gensim.prepare(model, corpus, dictionary)"
   ]
  },
  {
   "cell_type": "code",
   "execution_count": 25,
   "metadata": {},
   "outputs": [],
   "source": [
    "# evaluation\n",
    "from sklearn.metrics.pairwise import cosine_similarity\n",
    "\n",
    "# split each doc into 2 parts\n",
    "df['tokens'] = docs\n",
    "docs1 = df['tokens'].apply(lambda l: l[:int0(len(l)/2)])\n",
    "docs2 = df['tokens'].apply(lambda l: l[int0(len(l)/2):])"
   ]
  },
  {
   "cell_type": "code",
   "execution_count": 26,
   "metadata": {},
   "outputs": [],
   "source": [
    "# transform data using LDA model\n",
    "corpus1 = [dictionary.doc2bow(doc) for doc in docs1]\n",
    "corpus2 = [dictionary.doc2bow(doc) for doc in docs2]\n",
    "\n",
    "lda_corpus1 = model[corpus1]\n",
    "lda_corpus2 = model[corpus2]"
   ]
  },
  {
   "cell_type": "code",
   "execution_count": 27,
   "metadata": {},
   "outputs": [],
   "source": [
    "from collections import OrderedDict\n",
    "#(LDA) matrix transformation of docs in the topic space\n",
    "def get_doc_topic_dist(model, corpus, kwords=False):\n",
    "    top_dist = []\n",
    "    keys = []\n",
    "\n",
    "    for d in corpus:\n",
    "        tmp = {i:0 for i in range(num_topics)}\n",
    "        tmp.update(dict(model[d]))\n",
    "        vals = list(OrderedDict(tmp).values())\n",
    "        top_dist += [array(vals)]\n",
    "        if kwords:\n",
    "            keys +- [arrays(vals).argmax()]\n",
    "    return array(top_dist), keys    "
   ]
  },
  {
   "cell_type": "code",
   "execution_count": 29,
   "metadata": {},
   "outputs": [
    {
     "name": "stdout",
     "output_type": "stream",
     "text": [
      "Intra similarity: cosine similarity for corresponding parts of a doc(higher is better):\n",
      "0.9996776\n",
      "Inter similarity: cosine similarity between random parts (lower is better):\n",
      "0.9994464\n"
     ]
    }
   ],
   "source": [
    "top_dist1, _ = get_doc_topic_dist(model, lda_corpus1)\n",
    "top_dist2, _ = get_doc_topic_dist(model, lda_corpus2)\n",
    "\n",
    "print(\"Intra similarity: cosine similarity for corresponding parts of a doc(higher is better):\")\n",
    "print(mean([cosine_similarity(c1.reshape(1, -1), c2.reshape(1, -1))[0][0] for c1,c2 in zip(top_dist1, top_dist2)]))\n",
    "\n",
    "random_pairs = np.random.randint(0, len(df['comment_body']), size=(400, 2))\n",
    "\n",
    "print(\"Inter similarity: cosine similarity between random parts (lower is better):\")\n",
    "print(np.mean([cosine_similarity(top_dist1[i[0]].reshape(1, -1), top_dist2[i[1]].reshape(1, -1)) for i in random_pairs]))\n"
   ]
  },
  {
   "cell_type": "code",
   "execution_count": 30,
   "metadata": {},
   "outputs": [],
   "source": [
    "# explore frequent terms in topic\n",
    "def explore_topic(lda_model, topic_number, topn, output=True):\n",
    "    #prints formatted list of the topn terms\n",
    "    terms = []\n",
    "    for term, frequency in lda_model.show_topic(topic_number, topn=topn):\n",
    "        terms += [term]\n",
    "        if output:\n",
    "            print(u'{:20} {:.3f}'.format(term, round(frequency, 3)))\n",
    "    return terms"
   ]
  },
  {
   "cell_type": "code",
   "execution_count": 31,
   "metadata": {},
   "outputs": [
    {
     "name": "stdout",
     "output_type": "stream",
     "text": [
      "term                 frequency\n",
      "\n",
      "Topic 0 |---------------------\n",
      "\n",
      "people               0.036\n",
      "like                 0.022\n",
      "case                 0.013\n",
      "also                 0.013\n",
      "time                 0.012\n",
      "week                 0.011\n",
      "number               0.010\n",
      "test                 0.010\n",
      "still                0.010\n",
      "coronavirus          0.009\n",
      "Topic 1 |---------------------\n",
      "\n",
      "work                 0.020\n",
      "thing                0.020\n",
      "health               0.017\n",
      "care                 0.017\n",
      "take                 0.016\n",
      "home                 0.013\n",
      "right                0.013\n",
      "year                 0.013\n",
      "health_care          0.013\n",
      "risk                 0.012\n",
      "Topic 2 |---------------------\n",
      "\n",
      "healthcare           0.020\n",
      "hand                 0.018\n",
      "italy                0.017\n",
      "system               0.017\n",
      "wash_hand            0.014\n",
      "healthcare_worker    0.013\n",
      "corona_virus         0.013\n",
      "face                 0.013\n",
      "healthcare_system    0.013\n",
      "immune_system        0.011\n",
      "Topic 3 |---------------------\n",
      "\n",
      "mask                 0.027\n",
      "need                 0.023\n",
      "dont                 0.020\n",
      "people               0.020\n",
      "know                 0.017\n",
      "think                0.014\n",
      "virus                0.014\n",
      "trump                0.013\n",
      "would                0.013\n",
      "better               0.011\n"
     ]
    }
   ],
   "source": [
    "topic_summaries = []\n",
    "print(u'{:20} {}'.format(u'term', u'frequency') + u'\\n')\n",
    "for i in range(num_topics):\n",
    "    print('Topic '+str(i)+' |---------------------\\n')\n",
    "    tmp = explore_topic(model,topic_number=i, topn=10, output=True )\n",
    "#     print tmp[:5]\n",
    "    topic_summaries += [tmp[:5]]\n",
    "    print"
   ]
  },
  {
   "cell_type": "code",
   "execution_count": null,
   "metadata": {},
   "outputs": [],
   "source": []
  }
 ],
 "metadata": {
  "kernelspec": {
   "display_name": "Python 3",
   "language": "python",
   "name": "python3"
  },
  "language_info": {
   "codemirror_mode": {
    "name": "ipython",
    "version": 3
   },
   "file_extension": ".py",
   "mimetype": "text/x-python",
   "name": "python",
   "nbconvert_exporter": "python",
   "pygments_lexer": "ipython3",
   "version": "3.7.4"
  }
 },
 "nbformat": 4,
 "nbformat_minor": 4
}
